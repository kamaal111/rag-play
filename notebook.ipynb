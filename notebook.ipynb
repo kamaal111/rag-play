{
 "cells": [
  {
   "cell_type": "code",
   "execution_count": 1,
   "id": "82375971",
   "metadata": {},
   "outputs": [],
   "source": [
    "from pydantic_settings import BaseSettings, SettingsConfigDict\n",
    "\n",
    "DEFAULT_DATABASE_USER = \"rag-play-user\"\n",
    "DEFAULT_DATABASE_PASSWORD = \"secure-password\"\n",
    "DEFAULT_DATABASE_HOST = \"db\"\n",
    "DEFAULT_DATABASE_PORT = \"5432\"\n",
    "DEFAULT_DATABASE_NAME = \"rag_play_db\"\n",
    "DEFAULT_POSTGRES_DSN = f\"postgresql+psycopg://{DEFAULT_DATABASE_USER}:{DEFAULT_DATABASE_PASSWORD}@{DEFAULT_DATABASE_HOST}:{DEFAULT_DATABASE_PORT}/{DEFAULT_DATABASE_NAME}\"\n",
    "\n",
    "class Settings(BaseSettings):\n",
    "    model_config = SettingsConfigDict(extra=\"ignore\")\n",
    "\n",
    "    database_url: str = DEFAULT_POSTGRES_DSN\n",
    "\n",
    "settings = Settings()"
   ]
  },
  {
   "cell_type": "code",
   "execution_count": 2,
   "id": "c0d32c8f",
   "metadata": {},
   "outputs": [
    {
     "name": "stdout",
     "output_type": "stream",
     "text": [
      "2025-07-26 12:51:15,594 INFO sqlalchemy.engine.Engine select pg_catalog.version()\n",
      "2025-07-26 12:51:15,594 INFO sqlalchemy.engine.Engine [raw sql] {}\n",
      "2025-07-26 12:51:15,595 INFO sqlalchemy.engine.Engine select current_schema()\n",
      "2025-07-26 12:51:15,596 INFO sqlalchemy.engine.Engine [raw sql] {}\n",
      "2025-07-26 12:51:15,596 INFO sqlalchemy.engine.Engine show standard_conforming_strings\n",
      "2025-07-26 12:51:15,596 INFO sqlalchemy.engine.Engine [raw sql] {}\n",
      "2025-07-26 12:51:15,598 INFO sqlalchemy.engine.Engine BEGIN (implicit)\n",
      "2025-07-26 12:51:15,598 INFO sqlalchemy.engine.Engine COMMIT\n"
     ]
    }
   ],
   "source": [
    "from sqlmodel import SQLModel, create_engine\n",
    "\n",
    "\n",
    "class Database:\n",
    "    def __init__(self) -> None:\n",
    "        self.engine = create_engine(settings.database_url, echo=True)\n",
    "\n",
    "def create_db_and_tables(database: Database) -> None:\n",
    "    SQLModel.metadata.create_all(database.engine)\n",
    "\n",
    "database = Database()\n",
    "create_db_and_tables(database)"
   ]
  }
 ],
 "metadata": {
  "kernelspec": {
   "display_name": "rag-play",
   "language": "python",
   "name": "python3"
  },
  "language_info": {
   "codemirror_mode": {
    "name": "ipython",
    "version": 3
   },
   "file_extension": ".py",
   "mimetype": "text/x-python",
   "name": "python",
   "nbconvert_exporter": "python",
   "pygments_lexer": "ipython3",
   "version": "3.13.5"
  }
 },
 "nbformat": 4,
 "nbformat_minor": 5
}
