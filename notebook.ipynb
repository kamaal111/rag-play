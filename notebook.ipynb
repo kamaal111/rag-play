{
 "cells": [
  {
   "cell_type": "code",
   "execution_count": 1,
   "id": "82375971",
   "metadata": {},
   "outputs": [],
   "source": [
    "from pydantic_settings import BaseSettings, SettingsConfigDict\n",
    "\n",
    "\n",
    "class Settings(BaseSettings):\n",
    "    model_config = SettingsConfigDict(extra=\"ignore\")\n",
    "\n",
    "    openai_api_key: str\n",
    "    database_path: str = \"./data\"\n",
    "\n",
    "\n",
    "settings = Settings()"
   ]
  },
  {
   "cell_type": "code",
   "execution_count": 2,
   "id": "c0d32c8f",
   "metadata": {},
   "outputs": [],
   "source": [
    "from langchain_chroma import Chroma\n",
    "from langchain_openai import OpenAIEmbeddings\n",
    "\n",
    "embeddings = OpenAIEmbeddings(model=\"text-embedding-3-small\")\n",
    "vector_store = Chroma(\n",
    "    collection_name=\"docs\",\n",
    "    embedding_function=embeddings,\n",
    "    persist_directory=settings.database_path,\n",
    ")"
   ]
  },
  {
   "cell_type": "code",
   "execution_count": 3,
   "id": "c5cb936a",
   "metadata": {},
   "outputs": [
    {
     "data": {
      "text/plain": [
       "['1', '2', '3']"
      ]
     },
     "execution_count": 3,
     "metadata": {},
     "output_type": "execute_result"
    }
   ],
   "source": [
    "from langchain_core.documents import Document\n",
    "\n",
    "documents = [\n",
    "    Document(\n",
    "        page_content=\"LangChain is a framework for building applications with LLMs.\",\n",
    "        id=\"1\",\n",
    "    ),\n",
    "    Document(page_content=\"RAG stands for Retrieval-Augmented Generation.\", id=\"2\"),\n",
    "    Document(\n",
    "        page_content=\"FAISS is Facebook AI Similarity Search for vector indexing.\", id=\"3\"\n",
    "    ),\n",
    "]\n",
    "ids = list(map(lambda doc: doc.id, documents))\n",
    "vector_store.add_documents(documents=documents, ids=ids)"
   ]
  },
  {
   "cell_type": "code",
   "execution_count": 4,
   "id": "6dd54f07",
   "metadata": {},
   "outputs": [
    {
     "name": "stdout",
     "output_type": "stream",
     "text": [
      "* [SIM=0.764835] FAISS is Facebook AI Similarity Search for vector indexing.\n",
      "* [SIM=1.520913] RAG stands for Retrieval-Augmented Generation.\n",
      "* [SIM=1.703649] LangChain is a framework for building applications with LLMs.\n"
     ]
    }
   ],
   "source": [
    "results = vector_store.similarity_search_with_score(\"What is FAISS?\", k=len(ids))\n",
    "for res, score in results:\n",
    "    print(f\"* [SIM={score:3f}] {res.page_content}\")"
   ]
  }
 ],
 "metadata": {
  "kernelspec": {
   "display_name": "rag-play",
   "language": "python",
   "name": "python3"
  },
  "language_info": {
   "codemirror_mode": {
    "name": "ipython",
    "version": 3
   },
   "file_extension": ".py",
   "mimetype": "text/x-python",
   "name": "python",
   "nbconvert_exporter": "python",
   "pygments_lexer": "ipython3",
   "version": "3.13.5"
  }
 },
 "nbformat": 4,
 "nbformat_minor": 5
}
