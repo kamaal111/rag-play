{
 "cells": [
  {
   "cell_type": "markdown",
   "id": "7b9cf54c",
   "metadata": {},
   "source": [
    "# RAG"
   ]
  },
  {
   "cell_type": "markdown",
   "id": "2df2318c",
   "metadata": {},
   "source": [
    "Setting up environment and validating the required environment variables."
   ]
  },
  {
   "cell_type": "code",
   "execution_count": 1,
   "id": "82375971",
   "metadata": {},
   "outputs": [],
   "source": [
    "from pydantic_settings import BaseSettings, SettingsConfigDict\n",
    "\n",
    "\n",
    "class Settings(BaseSettings):\n",
    "    model_config = SettingsConfigDict(extra=\"ignore\")\n",
    "\n",
    "    openai_api_key: str\n",
    "    database_path: str = \"./data\"\n",
    "\n",
    "\n",
    "settings = Settings()"
   ]
  },
  {
   "cell_type": "markdown",
   "id": "f4ef493c",
   "metadata": {},
   "source": [
    "Setting up embeddings and vector store."
   ]
  },
  {
   "cell_type": "code",
   "execution_count": 2,
   "id": "c0d32c8f",
   "metadata": {},
   "outputs": [],
   "source": [
    "from langchain_chroma import Chroma\n",
    "from langchain_core.documents import Document\n",
    "from langchain_openai import OpenAIEmbeddings\n",
    "\n",
    "embeddings = OpenAIEmbeddings(model=\"text-embedding-3-small\")\n",
    "vector_store = Chroma(\n",
    "    collection_name=\"docs\",\n",
    "    embedding_function=embeddings,\n",
    "    persist_directory=settings.database_path,\n",
    ")\n",
    "documents = [\n",
    "    Document(\n",
    "        page_content=\"LangChain is a framework for building applications with LLMs.\",\n",
    "        id=\"1\",\n",
    "    ),\n",
    "    Document(page_content=\"RAG stands for Retrieval-Augmented Generation.\", id=\"2\"),\n",
    "    Document(\n",
    "        page_content=\"FAISS is Facebook AI Similarity Search for vector indexing.\",\n",
    "        id=\"3\",\n",
    "    ),\n",
    "]\n",
    "ids = list(map(lambda doc: doc.id, documents))\n",
    "_ = vector_store.add_documents(documents=documents, ids=ids)"
   ]
  },
  {
   "cell_type": "code",
   "execution_count": 3,
   "id": "6dd54f07",
   "metadata": {},
   "outputs": [],
   "source": [
    "# from langchain.retrievers.self_query.base import SelfQueryRetriever\n",
    "# from langchain_openai import OpenAI\n",
    "\n",
    "# document_content_description = \"Topics related to RAG\"\n",
    "# llm = OpenAI(temperature=0)\n",
    "# retriever = SelfQueryRetriever.from_llm(\n",
    "#     llm, vector_store, document_content_description, [], enable_limit=True, verbose=True\n",
    "# )\n",
    "\n",
    "# retriever.invoke(\"What is LangChain?\")"
   ]
  },
  {
   "cell_type": "code",
   "execution_count": 4,
   "id": "a2e88d99",
   "metadata": {},
   "outputs": [
    {
     "data": {
      "image/png": "[encoded data removed]",
      "text/plain": [
       "<IPython.core.display.Image object>"
      ]
     },
     "metadata": {},
     "output_type": "display_data"
    }
   ],
   "source": [
    "from typing import Literal, TypedDict\n",
    "\n",
    "from IPython.display import Image, display\n",
    "from langchain.chat_models import init_chat_model\n",
    "from langgraph.graph.state import StateGraph\n",
    "from langgraph.types import Command as LanggraphCommand\n",
    "from pydantic import BaseModel\n",
    "\n",
    "GraphNodes = Literal[\"entry_node\", \"finish_node\"]\n",
    "GraphCommand = LanggraphCommand[GraphNodes]\n",
    "\n",
    "\n",
    "class GraphConfig(TypedDict): ...\n",
    "\n",
    "\n",
    "class GraphState(BaseModel): ...\n",
    "\n",
    "\n",
    "agent = init_chat_model(\"gpt-4o-mini\", model_provider=\"openai\")\n",
    "\n",
    "\n",
    "def entry_node(state: GraphState) -> GraphCommand:\n",
    "    return GraphCommand(update=state, goto=\"finish_node\")\n",
    "\n",
    "\n",
    "def finish_node(state: GraphState) -> GraphState:\n",
    "    return state\n",
    "\n",
    "\n",
    "graph = (\n",
    "    StateGraph(GraphState, config_schema=GraphConfig)\n",
    "    .add_node(entry_node)\n",
    "    .add_node(finish_node)\n",
    "    .set_entry_point(\"entry_node\")\n",
    "    .set_finish_point(\"finish_node\")\n",
    "    .compile()\n",
    ")\n",
    "display(Image(graph.get_graph().draw_mermaid_png()))"
   ]
  }
 ],
 "metadata": {
  "kernelspec": {
   "display_name": "rag-play",
   "language": "python",
   "name": "python3"
  },
  "language_info": {
   "codemirror_mode": {
    "name": "ipython",
    "version": 3
   },
   "file_extension": ".py",
   "mimetype": "text/x-python",
   "name": "python",
   "nbconvert_exporter": "python",
   "pygments_lexer": "ipython3",
   "version": "3.13.5"
  }
 },
 "nbformat": 4,
 "nbformat_minor": 5
}
