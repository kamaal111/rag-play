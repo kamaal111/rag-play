{
 "cells": [
  {
   "cell_type": "code",
   "execution_count": 1,
   "id": "82375971",
   "metadata": {},
   "outputs": [],
   "source": [
    "from pydantic_settings import BaseSettings, SettingsConfigDict\n",
    "\n",
    "\n",
    "class Settings(BaseSettings):\n",
    "    model_config = SettingsConfigDict(extra=\"ignore\")\n",
    "\n",
    "    openai_api_key: str\n",
    "    database_path: str = \"./data\"\n",
    "\n",
    "\n",
    "settings = Settings()"
   ]
  },
  {
   "cell_type": "code",
   "execution_count": 2,
   "id": "c0d32c8f",
   "metadata": {},
   "outputs": [],
   "source": [
    "import chromadb\n",
    "from chromadb.utils.embedding_functions import OpenAIEmbeddingFunction\n",
    "\n",
    "chroma_client = chromadb.PersistentClient(path=settings.database_path)\n",
    "collection = chroma_client.get_or_create_collection(\n",
    "    name=\"docs\",\n",
    "    embedding_function=OpenAIEmbeddingFunction(\n",
    "        model_name=\"text-embedding-3-small\", api_key=settings.openai_api_key\n",
    "    ),\n",
    ")"
   ]
  },
  {
   "cell_type": "code",
   "execution_count": 3,
   "id": "c5cb936a",
   "metadata": {},
   "outputs": [
    {
     "name": "stdout",
     "output_type": "stream",
     "text": [
      "{'ids': [['2']], 'embeddings': None, 'documents': [['RAG stands for Retrieval-Augmented Generation.']], 'uris': None, 'included': ['metadatas', 'documents', 'distances'], 'data': None, 'metadatas': [[None]], 'distances': [[0.6730250716209412]]}\n"
     ]
    }
   ],
   "source": [
    "collection.upsert(\n",
    "    ids=[\"1\", \"2\", \"3\"],\n",
    "    documents=[\n",
    "        \"LangChain is a framework for building applications with LLMs.\",\n",
    "        \"RAG stands for Retrieval-Augmented Generation.\",\n",
    "        \"FAISS is Facebook AI Similarity Search for vector indexing.\",\n",
    "    ],\n",
    ")\n",
    "\n",
    "results = collection.query(query_texts=[\"What is Rag?\"], n_results=1)\n",
    "print(results)"
   ]
  }
 ],
 "metadata": {
  "kernelspec": {
   "display_name": "rag-play",
   "language": "python",
   "name": "python3"
  },
  "language_info": {
   "codemirror_mode": {
    "name": "ipython",
    "version": 3
   },
   "file_extension": ".py",
   "mimetype": "text/x-python",
   "name": "python",
   "nbconvert_exporter": "python",
   "pygments_lexer": "ipython3",
   "version": "3.13.5"
  }
 },
 "nbformat": 4,
 "nbformat_minor": 5
}
