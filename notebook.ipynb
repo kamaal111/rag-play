{
 "cells": [
  {
   "cell_type": "code",
   "execution_count": 1,
   "id": "82375971",
   "metadata": {},
   "outputs": [],
   "source": [
    "from pydantic_settings import BaseSettings, SettingsConfigDict\n",
    "\n",
    "\n",
    "class Settings(BaseSettings):\n",
    "    model_config = SettingsConfigDict(extra=\"ignore\")\n",
    "\n",
    "    openai_api_key: str\n",
    "\n",
    "\n",
    "settings = Settings()"
   ]
  },
  {
   "cell_type": "code",
   "execution_count": 2,
   "id": "c0d32c8f",
   "metadata": {},
   "outputs": [],
   "source": [
    "import chromadb\n",
    "\n",
    "chroma_client = chromadb.Client()\n",
    "\n",
    "collection = chroma_client.get_or_create_collection(name=\"docs\")"
   ]
  },
  {
   "cell_type": "code",
   "execution_count": 3,
   "id": "c5cb936a",
   "metadata": {},
   "outputs": [
    {
     "data": {
      "text/plain": [
       "3"
      ]
     },
     "execution_count": 3,
     "metadata": {},
     "output_type": "execute_result"
    }
   ],
   "source": [
    "# from langchain_openai import OpenAIEmbeddings\n",
    "\n",
    "if collection.count() == 0:\n",
    "    collection.add(\n",
    "        ids=[\"1\", \"2\", \"3\"],\n",
    "        documents=[\n",
    "            \"LangChain is a framework for building applications with LLMs.\",\n",
    "            \"RAG stands for Retrieval-Augmented Generation.\",\n",
    "            \"FAISS is Facebook AI Similarity Search for vector indexing.\",\n",
    "        ],\n",
    "    )\n",
    "\n",
    "# embeddings = OpenAIEmbeddings(model=\"text-embedding-3-small\")\n",
    "collection.count()"
   ]
  }
 ],
 "metadata": {
  "kernelspec": {
   "display_name": "rag-play",
   "language": "python",
   "name": "python3"
  },
  "language_info": {
   "codemirror_mode": {
    "name": "ipython",
    "version": 3
   },
   "file_extension": ".py",
   "mimetype": "text/x-python",
   "name": "python",
   "nbconvert_exporter": "python",
   "pygments_lexer": "ipython3",
   "version": "3.13.5"
  }
 },
 "nbformat": 4,
 "nbformat_minor": 5
}
